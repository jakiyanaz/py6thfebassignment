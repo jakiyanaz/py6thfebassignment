{
 "cells": [
  {
   "cell_type": "markdown",
   "id": "2ebf9e0e-9d74-42ff-8c6d-17f8fc4f1c83",
   "metadata": {},
   "source": [
    "Q1. Create a function which will take a list as an argument and return the product of all the numbers \n",
    "after creating a flat list.\n",
    "\n",
    "Use the below-given list as an argument for your function.\n",
    "\n",
    "\n",
    "list1 = [1,2,3,4, [44,55,66, True], False, (34,56,78,89,34), {1,2,3,3,2,1}, {1:34, \"key2\": [55, 67, 78, 89], 4: (45, \n",
    "22, 61, 34)}, [56, 'data science'], 'Machine Learning']\n",
    "\n",
    "\n",
    "Note: you must extract numeric keys and values of the dictionary also."
   ]
  },
  {
   "cell_type": "code",
   "execution_count": 13,
   "id": "0a8beb06-7669-4dfb-a26e-1d0036c5a77c",
   "metadata": {},
   "outputs": [],
   "source": [
    "import functools\n",
    "list1 = [1,2,3,4, [44,55,66, True], False, (34,56,78,89,34), {1,2,3,3,2,1}, {1:34, \"key2\": [55, 67, 78, 89], 4: (45, 22, 61, 34)}, [56, 'data science'], 'Machine Learning']\n",
    "list2 = []\n",
    "list3 = []\n",
    "def productval(arg1):\n",
    "    for i in list1:\n",
    "        if type(i) == dict:\n",
    "            dictitems = list(i.items())\n",
    "            for j in dictitems:\n",
    "                for k in j:\n",
    "                    if type(k) != str:\n",
    "                        list2.append(k)\n",
    "        if type(i) == int:\n",
    "            list2.append(i)\n",
    "        \n",
    "        if type(i) != int and type(i) != bool and type(i) != str and type(i) != dict:\n",
    "            for item in i:\n",
    "                if type(item) != bool and type(item) != str:\n",
    "                    list2.append(item)\n",
    "    \n",
    "    for i in list2:\n",
    "        if type(i) == int:\n",
    "            list3.append(i)\n",
    "        if type(i) != int:\n",
    "            for j in i:\n",
    "                list3.append(j)\n",
    "    #return list3\n",
    "    productresult = functools.reduce(lambda a,b : a*b, list3)\n",
    "    return productresult"
   ]
  },
  {
   "cell_type": "code",
   "execution_count": 14,
   "id": "bb3e33ab-ece1-4b6f-938e-744841330d1f",
   "metadata": {},
   "outputs": [
    {
     "data": {
      "text/plain": [
       "4134711838987085478833841242112000"
      ]
     },
     "execution_count": 14,
     "metadata": {},
     "output_type": "execute_result"
    }
   ],
   "source": [
    "productval(list1)"
   ]
  },
  {
   "cell_type": "markdown",
   "id": "bd8cbeaf-dea0-4d64-a57a-f0cf91f0583f",
   "metadata": {},
   "source": [
    "Q2. Write a python program for encrypting a message sent to you by your friend. The logic of encryption \n",
    "should be such that, for a the output should be z. For b, the output should be y. For c, the output should \n",
    "be x respectively. Also, the whitespace should be replaced with a dollar sign. Keep the punctuation \n",
    "marks unchanged.\n",
    "\n",
    "\n",
    "Input Sentence: I want to become a Data Scientist.\n",
    "\n",
    "\n",
    "Encrypt the above input sentence using the program you just created.\n",
    "\n",
    "\n",
    "Note: Convert the given input sentence into lowercase before encrypting. The final output should be \n",
    "lowercase."
   ]
  },
  {
   "cell_type": "code",
   "execution_count": 54,
   "id": "4bc0e448-e00a-4438-a1db-008de4fe4781",
   "metadata": {},
   "outputs": [
    {
     "name": "stdin",
     "output_type": "stream",
     "text": [
      "Enter the message:  I want to become a Data Scientist\n"
     ]
    },
    {
     "data": {
      "text/plain": [
       "'r$dzmg$gl$yvxlnv$z$wzgz$hxrvmgrhg'"
      ]
     },
     "execution_count": 54,
     "metadata": {},
     "output_type": "execute_result"
    }
   ],
   "source": [
    "import string\n",
    "msg = input(\"Enter the message: \").lower()\n",
    "finalmsg = msg.replace(' ', '$')\n",
    "puncmarks = string.punctuation\n",
    "encrstr = ''\n",
    "dictz = {}\n",
    "for i in range(0, 26):\n",
    "    dictz[i] = chr(i+97)\n",
    "    \n",
    "def encryptedmsg(arg,encrstr):\n",
    "    for i in arg:\n",
    "        if i not in puncmarks:\n",
    "            val = ord(i) - 97\n",
    "            encrstr = encrstr + dictz[25-val]\n",
    "        else:\n",
    "            encrstr = encrstr + i\n",
    "    return encrstr\n",
    "encryptedmsg(finalmsg,encrstr)"
   ]
  },
  {
   "cell_type": "code",
   "execution_count": 36,
   "id": "e2ca82f3-629a-45e9-a5bb-3e22fe2723da",
   "metadata": {},
   "outputs": [
    {
     "name": "stdout",
     "output_type": "stream",
     "text": [
      "{0: 'a', 1: 'b', 2: 'c', 3: 'd', 4: 'e', 5: 'f', 6: 'g', 7: 'h', 8: 'i', 9: 'j', 10: 'k', 11: 'l', 12: 'm', 13: 'n', 14: 'o', 15: 'p', 16: 'q', 17: 'r', 18: 's', 19: 't', 20: 'u', 21: 'v', 22: 'w', 23: 'x', 24: 'y', 25: 'z'}\n"
     ]
    }
   ],
   "source": [
    "# dictz = {}\n",
    "# for i in range(0, 26):\n",
    "#     dictz[i] = chr(i+97)\n",
    "# print(dictz)"
   ]
  }
 ],
 "metadata": {
  "kernelspec": {
   "display_name": "Python 3 (ipykernel)",
   "language": "python",
   "name": "python3"
  },
  "language_info": {
   "codemirror_mode": {
    "name": "ipython",
    "version": 3
   },
   "file_extension": ".py",
   "mimetype": "text/x-python",
   "name": "python",
   "nbconvert_exporter": "python",
   "pygments_lexer": "ipython3",
   "version": "3.10.8"
  }
 },
 "nbformat": 4,
 "nbformat_minor": 5
}
